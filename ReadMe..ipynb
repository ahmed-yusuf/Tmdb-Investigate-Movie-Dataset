{
 "cells": [
  {
   "cell_type": "markdown",
   "id": "9580b91e",
   "metadata": {},
   "source": [
    "# TMDB MOVIE DATA ANALYSIS"
   ]
  },
  {
   "cell_type": "markdown",
   "id": "b3261061",
   "metadata": {},
   "source": [
    "## Project Description"
   ]
  },
  {
   "cell_type": "markdown",
   "id": "b9858bf5",
   "metadata": {},
   "source": [
    "This data set contains information of about 10,000 movies collected from The Movie Database (TMDb), including columns such as user ratings,genre,profit,revenue etc. The goal of this project is to analyse the data based on certain features and also to visualize them to identify patterns in the dataset."
   ]
  },
  {
   "cell_type": "markdown",
   "id": "14c5e196",
   "metadata": {},
   "source": [
    "## Overview"
   ]
  },
  {
   "cell_type": "markdown",
   "id": "06878bbe",
   "metadata": {},
   "source": [
    "* Data Gathering\n",
    "* Data Cleaning\n",
    "*Exploratory Data Analysis\n",
    "*Data Visualization"
   ]
  },
  {
   "cell_type": "markdown",
   "id": "dfaff3b1",
   "metadata": {},
   "source": [
    "## Question on the Dataset"
   ]
  },
  {
   "cell_type": "markdown",
   "id": "92a46c3c",
   "metadata": {},
   "source": [
    "* Does Movie Genre affect profit\n",
    "*Which Columns are correlated to one another\n",
    "*What is the most popular movie Genre\n",
    "*How does genre affect revenue"
   ]
  },
  {
   "cell_type": "markdown",
   "id": "61304bc6",
   "metadata": {},
   "source": [
    "## Language & Tools\n",
    "Python (Pandas, NumPy, Matplotlib, Seaborn)"
   ]
  },
  {
   "cell_type": "code",
   "execution_count": null,
   "id": "a32452de",
   "metadata": {},
   "outputs": [],
   "source": []
  }
 ],
 "metadata": {
  "kernelspec": {
   "display_name": "Python 3 (ipykernel)",
   "language": "python",
   "name": "python3"
  },
  "language_info": {
   "codemirror_mode": {
    "name": "ipython",
    "version": 3
   },
   "file_extension": ".py",
   "mimetype": "text/x-python",
   "name": "python",
   "nbconvert_exporter": "python",
   "pygments_lexer": "ipython3",
   "version": "3.9.12"
  }
 },
 "nbformat": 4,
 "nbformat_minor": 5
}
