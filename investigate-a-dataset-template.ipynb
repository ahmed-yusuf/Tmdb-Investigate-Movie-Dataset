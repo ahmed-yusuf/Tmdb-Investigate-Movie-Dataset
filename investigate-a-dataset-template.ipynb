{
 "cells": [
  {
   "cell_type": "markdown",
   "metadata": {},
   "source": [
    "# Project: Investigate a Dataset (tmdb Dataset)\n",
    "\n",
    "## Table of Contents\n",
    "1.Introductiion\n",
    "2.Data Wrangling.\n",
    "3.Exploratory Data Analysis\n",
    "4.Conclsion"
   ]
  },
  {
   "cell_type": "markdown",
   "metadata": {},
   "source": [
    "## Introduction\n",
    "1. TMDB Dataset to explore data based on Genre,Year and other relevant columns to determine:\n",
    "a.which genre are the most sort after.\n",
    "b.Which decade made the most.\n"
   ]
  },
  {
   "cell_type": "code",
   "execution_count": 83,
   "metadata": {},
   "outputs": [],
   "source": [
    "\n",
    "import pandas as pd\n",
    "import numpy as np\n",
    "import matplotlib.pyplot as plt\n",
    "%matplotlib inline\n",
    "import seaborn as sns\n",
    "\n"
   ]
  },
  {
   "cell_type": "markdown",
   "metadata": {},
   "source": [
    "## Data Wrangling"
   ]
  },
  {
   "cell_type": "code",
   "execution_count": 84,
   "metadata": {},
   "outputs": [],
   "source": [
    "tmdb=pd.read_csv('tmdb_5000_movies.csv')"
   ]
  },
  {
   "cell_type": "markdown",
   "metadata": {},
   "source": [
    "Checking information of the dataset for inconsistencies,missing,messy cell value nad "
   ]
  },
  {
   "cell_type": "code",
   "execution_count": 85,
   "metadata": {
    "scrolled": true
   },
   "outputs": [
    {
     "data": {
      "text/html": [
       "<div>\n",
       "<style scoped>\n",
       "    .dataframe tbody tr th:only-of-type {\n",
       "        vertical-align: middle;\n",
       "    }\n",
       "\n",
       "    .dataframe tbody tr th {\n",
       "        vertical-align: top;\n",
       "    }\n",
       "\n",
       "    .dataframe thead th {\n",
       "        text-align: right;\n",
       "    }\n",
       "</style>\n",
       "<table border=\"1\" class=\"dataframe\">\n",
       "  <thead>\n",
       "    <tr style=\"text-align: right;\">\n",
       "      <th></th>\n",
       "      <th>budget</th>\n",
       "      <th>genres</th>\n",
       "      <th>homepage</th>\n",
       "      <th>id</th>\n",
       "      <th>keywords</th>\n",
       "      <th>original_language</th>\n",
       "      <th>original_title</th>\n",
       "      <th>overview</th>\n",
       "      <th>popularity</th>\n",
       "      <th>production_companies</th>\n",
       "      <th>production_countries</th>\n",
       "      <th>release_date</th>\n",
       "      <th>revenue</th>\n",
       "      <th>runtime</th>\n",
       "      <th>spoken_languages</th>\n",
       "      <th>status</th>\n",
       "      <th>tagline</th>\n",
       "      <th>title</th>\n",
       "      <th>vote_average</th>\n",
       "      <th>vote_count</th>\n",
       "    </tr>\n",
       "  </thead>\n",
       "  <tbody>\n",
       "    <tr>\n",
       "      <th>0</th>\n",
       "      <td>237000000</td>\n",
       "      <td>[{\"id\": 28, \"name\": \"Action\"}, {\"id\": 12, \"nam...</td>\n",
       "      <td>http://www.avatarmovie.com/</td>\n",
       "      <td>19995</td>\n",
       "      <td>[{\"id\": 1463, \"name\": \"culture clash\"}, {\"id\":...</td>\n",
       "      <td>en</td>\n",
       "      <td>Avatar</td>\n",
       "      <td>In the 22nd century, a paraplegic Marine is di...</td>\n",
       "      <td>150.437577</td>\n",
       "      <td>[{\"name\": \"Ingenious Film Partners\", \"id\": 289...</td>\n",
       "      <td>[{\"iso_3166_1\": \"US\", \"name\": \"United States o...</td>\n",
       "      <td>2009-12-10</td>\n",
       "      <td>2787965087</td>\n",
       "      <td>162.0</td>\n",
       "      <td>[{\"iso_639_1\": \"en\", \"name\": \"English\"}, {\"iso...</td>\n",
       "      <td>Released</td>\n",
       "      <td>Enter the World of Pandora.</td>\n",
       "      <td>Avatar</td>\n",
       "      <td>7.2</td>\n",
       "      <td>11800</td>\n",
       "    </tr>\n",
       "    <tr>\n",
       "      <th>1</th>\n",
       "      <td>300000000</td>\n",
       "      <td>[{\"id\": 12, \"name\": \"Adventure\"}, {\"id\": 14, \"...</td>\n",
       "      <td>http://disney.go.com/disneypictures/pirates/</td>\n",
       "      <td>285</td>\n",
       "      <td>[{\"id\": 270, \"name\": \"ocean\"}, {\"id\": 726, \"na...</td>\n",
       "      <td>en</td>\n",
       "      <td>Pirates of the Caribbean: At World's End</td>\n",
       "      <td>Captain Barbossa, long believed to be dead, ha...</td>\n",
       "      <td>139.082615</td>\n",
       "      <td>[{\"name\": \"Walt Disney Pictures\", \"id\": 2}, {\"...</td>\n",
       "      <td>[{\"iso_3166_1\": \"US\", \"name\": \"United States o...</td>\n",
       "      <td>2007-05-19</td>\n",
       "      <td>961000000</td>\n",
       "      <td>169.0</td>\n",
       "      <td>[{\"iso_639_1\": \"en\", \"name\": \"English\"}]</td>\n",
       "      <td>Released</td>\n",
       "      <td>At the end of the world, the adventure begins.</td>\n",
       "      <td>Pirates of the Caribbean: At World's End</td>\n",
       "      <td>6.9</td>\n",
       "      <td>4500</td>\n",
       "    </tr>\n",
       "  </tbody>\n",
       "</table>\n",
       "</div>"
      ],
      "text/plain": [
       "      budget                                             genres  \\\n",
       "0  237000000  [{\"id\": 28, \"name\": \"Action\"}, {\"id\": 12, \"nam...   \n",
       "1  300000000  [{\"id\": 12, \"name\": \"Adventure\"}, {\"id\": 14, \"...   \n",
       "\n",
       "                                       homepage     id  \\\n",
       "0                   http://www.avatarmovie.com/  19995   \n",
       "1  http://disney.go.com/disneypictures/pirates/    285   \n",
       "\n",
       "                                            keywords original_language  \\\n",
       "0  [{\"id\": 1463, \"name\": \"culture clash\"}, {\"id\":...                en   \n",
       "1  [{\"id\": 270, \"name\": \"ocean\"}, {\"id\": 726, \"na...                en   \n",
       "\n",
       "                             original_title  \\\n",
       "0                                    Avatar   \n",
       "1  Pirates of the Caribbean: At World's End   \n",
       "\n",
       "                                            overview  popularity  \\\n",
       "0  In the 22nd century, a paraplegic Marine is di...  150.437577   \n",
       "1  Captain Barbossa, long believed to be dead, ha...  139.082615   \n",
       "\n",
       "                                production_companies  \\\n",
       "0  [{\"name\": \"Ingenious Film Partners\", \"id\": 289...   \n",
       "1  [{\"name\": \"Walt Disney Pictures\", \"id\": 2}, {\"...   \n",
       "\n",
       "                                production_countries release_date     revenue  \\\n",
       "0  [{\"iso_3166_1\": \"US\", \"name\": \"United States o...   2009-12-10  2787965087   \n",
       "1  [{\"iso_3166_1\": \"US\", \"name\": \"United States o...   2007-05-19   961000000   \n",
       "\n",
       "   runtime                                   spoken_languages    status  \\\n",
       "0    162.0  [{\"iso_639_1\": \"en\", \"name\": \"English\"}, {\"iso...  Released   \n",
       "1    169.0           [{\"iso_639_1\": \"en\", \"name\": \"English\"}]  Released   \n",
       "\n",
       "                                          tagline  \\\n",
       "0                     Enter the World of Pandora.   \n",
       "1  At the end of the world, the adventure begins.   \n",
       "\n",
       "                                      title  vote_average  vote_count  \n",
       "0                                    Avatar           7.2       11800  \n",
       "1  Pirates of the Caribbean: At World's End           6.9        4500  "
      ]
     },
     "execution_count": 85,
     "metadata": {},
     "output_type": "execute_result"
    }
   ],
   "source": [
    "tmdb.head(2)"
   ]
  },
  {
   "cell_type": "markdown",
   "metadata": {},
   "source": [
    "###### CHECKING INFORMATION AS PER COLUMN"
   ]
  },
  {
   "cell_type": "code",
   "execution_count": 86,
   "metadata": {},
   "outputs": [
    {
     "name": "stdout",
     "output_type": "stream",
     "text": [
      "<class 'pandas.core.frame.DataFrame'>\n",
      "RangeIndex: 4803 entries, 0 to 4802\n",
      "Data columns (total 20 columns):\n",
      " #   Column                Non-Null Count  Dtype  \n",
      "---  ------                --------------  -----  \n",
      " 0   budget                4803 non-null   int64  \n",
      " 1   genres                4803 non-null   object \n",
      " 2   homepage              1712 non-null   object \n",
      " 3   id                    4803 non-null   int64  \n",
      " 4   keywords              4803 non-null   object \n",
      " 5   original_language     4803 non-null   object \n",
      " 6   original_title        4803 non-null   object \n",
      " 7   overview              4800 non-null   object \n",
      " 8   popularity            4803 non-null   float64\n",
      " 9   production_companies  4803 non-null   object \n",
      " 10  production_countries  4803 non-null   object \n",
      " 11  release_date          4802 non-null   object \n",
      " 12  revenue               4803 non-null   int64  \n",
      " 13  runtime               4801 non-null   float64\n",
      " 14  spoken_languages      4803 non-null   object \n",
      " 15  status                4803 non-null   object \n",
      " 16  tagline               3959 non-null   object \n",
      " 17  title                 4803 non-null   object \n",
      " 18  vote_average          4803 non-null   float64\n",
      " 19  vote_count            4803 non-null   int64  \n",
      "dtypes: float64(3), int64(4), object(13)\n",
      "memory usage: 750.6+ KB\n"
     ]
    }
   ],
   "source": [
    "tmdb.info()"
   ]
  },
  {
   "cell_type": "code",
   "execution_count": 87,
   "metadata": {},
   "outputs": [
    {
     "data": {
      "text/html": [
       "<div>\n",
       "<style scoped>\n",
       "    .dataframe tbody tr th:only-of-type {\n",
       "        vertical-align: middle;\n",
       "    }\n",
       "\n",
       "    .dataframe tbody tr th {\n",
       "        vertical-align: top;\n",
       "    }\n",
       "\n",
       "    .dataframe thead th {\n",
       "        text-align: right;\n",
       "    }\n",
       "</style>\n",
       "<table border=\"1\" class=\"dataframe\">\n",
       "  <thead>\n",
       "    <tr style=\"text-align: right;\">\n",
       "      <th></th>\n",
       "      <th>budget</th>\n",
       "      <th>id</th>\n",
       "      <th>popularity</th>\n",
       "      <th>revenue</th>\n",
       "      <th>runtime</th>\n",
       "      <th>vote_average</th>\n",
       "      <th>vote_count</th>\n",
       "    </tr>\n",
       "  </thead>\n",
       "  <tbody>\n",
       "    <tr>\n",
       "      <th>count</th>\n",
       "      <td>4.803000e+03</td>\n",
       "      <td>4803.000000</td>\n",
       "      <td>4803.000000</td>\n",
       "      <td>4.803000e+03</td>\n",
       "      <td>4801.000000</td>\n",
       "      <td>4803.000000</td>\n",
       "      <td>4803.000000</td>\n",
       "    </tr>\n",
       "    <tr>\n",
       "      <th>mean</th>\n",
       "      <td>2.904504e+07</td>\n",
       "      <td>57165.484281</td>\n",
       "      <td>21.492301</td>\n",
       "      <td>8.226064e+07</td>\n",
       "      <td>106.875859</td>\n",
       "      <td>6.092172</td>\n",
       "      <td>690.217989</td>\n",
       "    </tr>\n",
       "    <tr>\n",
       "      <th>std</th>\n",
       "      <td>4.072239e+07</td>\n",
       "      <td>88694.614033</td>\n",
       "      <td>31.816650</td>\n",
       "      <td>1.628571e+08</td>\n",
       "      <td>22.611935</td>\n",
       "      <td>1.194612</td>\n",
       "      <td>1234.585891</td>\n",
       "    </tr>\n",
       "    <tr>\n",
       "      <th>min</th>\n",
       "      <td>0.000000e+00</td>\n",
       "      <td>5.000000</td>\n",
       "      <td>0.000000</td>\n",
       "      <td>0.000000e+00</td>\n",
       "      <td>0.000000</td>\n",
       "      <td>0.000000</td>\n",
       "      <td>0.000000</td>\n",
       "    </tr>\n",
       "    <tr>\n",
       "      <th>25%</th>\n",
       "      <td>7.900000e+05</td>\n",
       "      <td>9014.500000</td>\n",
       "      <td>4.668070</td>\n",
       "      <td>0.000000e+00</td>\n",
       "      <td>94.000000</td>\n",
       "      <td>5.600000</td>\n",
       "      <td>54.000000</td>\n",
       "    </tr>\n",
       "    <tr>\n",
       "      <th>50%</th>\n",
       "      <td>1.500000e+07</td>\n",
       "      <td>14629.000000</td>\n",
       "      <td>12.921594</td>\n",
       "      <td>1.917000e+07</td>\n",
       "      <td>103.000000</td>\n",
       "      <td>6.200000</td>\n",
       "      <td>235.000000</td>\n",
       "    </tr>\n",
       "    <tr>\n",
       "      <th>75%</th>\n",
       "      <td>4.000000e+07</td>\n",
       "      <td>58610.500000</td>\n",
       "      <td>28.313505</td>\n",
       "      <td>9.291719e+07</td>\n",
       "      <td>118.000000</td>\n",
       "      <td>6.800000</td>\n",
       "      <td>737.000000</td>\n",
       "    </tr>\n",
       "    <tr>\n",
       "      <th>max</th>\n",
       "      <td>3.800000e+08</td>\n",
       "      <td>459488.000000</td>\n",
       "      <td>875.581305</td>\n",
       "      <td>2.787965e+09</td>\n",
       "      <td>338.000000</td>\n",
       "      <td>10.000000</td>\n",
       "      <td>13752.000000</td>\n",
       "    </tr>\n",
       "  </tbody>\n",
       "</table>\n",
       "</div>"
      ],
      "text/plain": [
       "             budget             id   popularity       revenue      runtime  \\\n",
       "count  4.803000e+03    4803.000000  4803.000000  4.803000e+03  4801.000000   \n",
       "mean   2.904504e+07   57165.484281    21.492301  8.226064e+07   106.875859   \n",
       "std    4.072239e+07   88694.614033    31.816650  1.628571e+08    22.611935   \n",
       "min    0.000000e+00       5.000000     0.000000  0.000000e+00     0.000000   \n",
       "25%    7.900000e+05    9014.500000     4.668070  0.000000e+00    94.000000   \n",
       "50%    1.500000e+07   14629.000000    12.921594  1.917000e+07   103.000000   \n",
       "75%    4.000000e+07   58610.500000    28.313505  9.291719e+07   118.000000   \n",
       "max    3.800000e+08  459488.000000   875.581305  2.787965e+09   338.000000   \n",
       "\n",
       "       vote_average    vote_count  \n",
       "count   4803.000000   4803.000000  \n",
       "mean       6.092172    690.217989  \n",
       "std        1.194612   1234.585891  \n",
       "min        0.000000      0.000000  \n",
       "25%        5.600000     54.000000  \n",
       "50%        6.200000    235.000000  \n",
       "75%        6.800000    737.000000  \n",
       "max       10.000000  13752.000000  "
      ]
     },
     "execution_count": 87,
     "metadata": {},
     "output_type": "execute_result"
    }
   ],
   "source": [
    "tmdb.describe()"
   ]
  },
  {
   "cell_type": "markdown",
   "metadata": {},
   "source": [
    "### Observations for cleaning data\n",
    "i.Create a column for year from the release_date column\n",
    "ii. Seperate genres in different Columns.\n",
    "iii.Create a column for years by the decade."
   ]
  },
  {
   "cell_type": "markdown",
   "metadata": {
    "collapsed": true
   },
   "source": [
    "CREATING THE YEAR COLUMN FROM THE RELEASE DATE"
   ]
  },
  {
   "cell_type": "code",
   "execution_count": 88,
   "metadata": {},
   "outputs": [],
   "source": [
    "tmdb['Year']=tmdb['release_date'].str[0:4]"
   ]
  },
  {
   "cell_type": "code",
   "execution_count": 89,
   "metadata": {},
   "outputs": [
    {
     "data": {
      "text/plain": [
       "int"
      ]
     },
     "execution_count": 89,
     "metadata": {},
     "output_type": "execute_result"
    }
   ],
   "source": [
    "type(tmdb.Year.shape[0])"
   ]
  },
  {
   "cell_type": "markdown",
   "metadata": {},
   "source": [
    "exploring the budget and revenue by year\n"
   ]
  },
  {
   "cell_type": "code",
   "execution_count": 90,
   "metadata": {},
   "outputs": [
    {
     "name": "stderr",
     "output_type": "stream",
     "text": [
      "C:\\Users\\Worldclass 3\\AppData\\Local\\Temp\\ipykernel_16324\\3542890207.py:1: FutureWarning: Indexing with multiple keys (implicitly converted to a tuple of keys) will be deprecated, use a list instead.\n",
      "  tmdb.groupby('Year')['budget','revenue'].sum()\n"
     ]
    },
    {
     "data": {
      "text/html": [
       "<div>\n",
       "<style scoped>\n",
       "    .dataframe tbody tr th:only-of-type {\n",
       "        vertical-align: middle;\n",
       "    }\n",
       "\n",
       "    .dataframe tbody tr th {\n",
       "        vertical-align: top;\n",
       "    }\n",
       "\n",
       "    .dataframe thead th {\n",
       "        text-align: right;\n",
       "    }\n",
       "</style>\n",
       "<table border=\"1\" class=\"dataframe\">\n",
       "  <thead>\n",
       "    <tr style=\"text-align: right;\">\n",
       "      <th></th>\n",
       "      <th>budget</th>\n",
       "      <th>revenue</th>\n",
       "    </tr>\n",
       "    <tr>\n",
       "      <th>Year</th>\n",
       "      <th></th>\n",
       "      <th></th>\n",
       "    </tr>\n",
       "  </thead>\n",
       "  <tbody>\n",
       "    <tr>\n",
       "      <th>1916</th>\n",
       "      <td>385907</td>\n",
       "      <td>8394751</td>\n",
       "    </tr>\n",
       "    <tr>\n",
       "      <th>1925</th>\n",
       "      <td>245000</td>\n",
       "      <td>22000000</td>\n",
       "    </tr>\n",
       "    <tr>\n",
       "      <th>1927</th>\n",
       "      <td>92620000</td>\n",
       "      <td>650422</td>\n",
       "    </tr>\n",
       "    <tr>\n",
       "      <th>1929</th>\n",
       "      <td>379000</td>\n",
       "      <td>4358000</td>\n",
       "    </tr>\n",
       "    <tr>\n",
       "      <th>1930</th>\n",
       "      <td>3950000</td>\n",
       "      <td>8000000</td>\n",
       "    </tr>\n",
       "    <tr>\n",
       "      <th>...</th>\n",
       "      <td>...</td>\n",
       "      <td>...</td>\n",
       "    </tr>\n",
       "    <tr>\n",
       "      <th>2013</th>\n",
       "      <td>8205880834</td>\n",
       "      <td>23411493295</td>\n",
       "    </tr>\n",
       "    <tr>\n",
       "      <th>2014</th>\n",
       "      <td>7368453311</td>\n",
       "      <td>24120490589</td>\n",
       "    </tr>\n",
       "    <tr>\n",
       "      <th>2015</th>\n",
       "      <td>6724547367</td>\n",
       "      <td>22775024221</td>\n",
       "    </tr>\n",
       "    <tr>\n",
       "      <th>2016</th>\n",
       "      <td>4753140000</td>\n",
       "      <td>14461156948</td>\n",
       "    </tr>\n",
       "    <tr>\n",
       "      <th>2017</th>\n",
       "      <td>0</td>\n",
       "      <td>0</td>\n",
       "    </tr>\n",
       "  </tbody>\n",
       "</table>\n",
       "<p>90 rows × 2 columns</p>\n",
       "</div>"
      ],
      "text/plain": [
       "          budget      revenue\n",
       "Year                         \n",
       "1916      385907      8394751\n",
       "1925      245000     22000000\n",
       "1927    92620000       650422\n",
       "1929      379000      4358000\n",
       "1930     3950000      8000000\n",
       "...          ...          ...\n",
       "2013  8205880834  23411493295\n",
       "2014  7368453311  24120490589\n",
       "2015  6724547367  22775024221\n",
       "2016  4753140000  14461156948\n",
       "2017           0            0\n",
       "\n",
       "[90 rows x 2 columns]"
      ]
     },
     "execution_count": 90,
     "metadata": {},
     "output_type": "execute_result"
    }
   ],
   "source": [
    "tmdb.groupby('Year')['budget','revenue'].sum()"
   ]
  },
  {
   "cell_type": "markdown",
   "metadata": {},
   "source": [
    "## Seperating columns based on specific genre"
   ]
  },
  {
   "cell_type": "code",
   "execution_count": 91,
   "metadata": {},
   "outputs": [],
   "source": [
    "tmdb['Adventure']=tmdb['genres'].apply(lambda x: 'Adventure,' if 'Adventure' in x else '' )\n",
    "tmdb['Animation']=tmdb['genres'].apply(lambda x: 'Animation,' if 'Animation' in x else '' )\n",
    "tmdb['Comedy']=tmdb['genres'].apply(lambda x: 'Comedy,' if 'Comedy' in x else '' )\n",
    "tmdb['Crime']=tmdb['genres'].apply(lambda x: 'Crime,' if 'Crime' in x else '' )\n",
    "tmdb['Documentary']=tmdb['genres'].apply(lambda x: 'Documentary,' if 'Documentary' in x else '' )\n",
    "tmdb['Drama']=tmdb['genres'].apply(lambda x: 'Drama,' if 'Drama' in x else '' )\n",
    "tmdb['Fantasy']=tmdb['genres'].apply(lambda x: 'Fantasy,' if 'Action' in x else '' )\n",
    "tmdb['History']=tmdb['genres'].apply(lambda x: 'History,' if 'History' in x else '' )\n",
    "tmdb['Horror']=tmdb['genres'].apply(lambda x: 'Horror,' if 'Horror' in x else '' )\n",
    "tmdb['Music']=tmdb['genres'].apply(lambda x: 'Music,' if 'Music' in x else '' )\n",
    "tmdb['Mystery']=tmdb['genres'].apply(lambda x: 'Mystery,' if 'Mystery' in x else '' )\n",
    "tmdb['Romance']=tmdb['genres'].apply(lambda x: 'Romance,' if 'Romance' in x else '' )\n",
    "tmdb['Sci_Fi']=tmdb['genres'].apply(lambda x: 'Sci_Fi,' if 'Science Fiction' in x else '' )\n",
    "tmdb['Thriller']=tmdb['genres'].apply(lambda x: 'Thriller,' if 'Thriller' in x else '' )\n",
    "tmdb['War']=tmdb['genres'].apply(lambda x: 'War' if 'War' in x else '' )\n",
    "tmdb['Western']=tmdb['genres'].apply(lambda x: 'Western,' if 'Western' in x else '' )\n",
    "tmdb['TV Movie']=tmdb['genres'].apply(lambda x: 'TV Movie,' if 'TV Movie' in x else '' )\n"
   ]
  },
  {
   "cell_type": "code",
   "execution_count": 92,
   "metadata": {},
   "outputs": [],
   "source": [
    "tmdb['Action']=tmdb['genres'].apply(lambda x: 'Action,' if 'Action' in x else '' )"
   ]
  },
  {
   "cell_type": "markdown",
   "metadata": {},
   "source": [
    "Genres have been sepereated based on appropriate columns"
   ]
  },
  {
   "cell_type": "markdown",
   "metadata": {},
   "source": [
    "###### Checking new columns created"
   ]
  },
  {
   "cell_type": "code",
   "execution_count": 93,
   "metadata": {
    "scrolled": true
   },
   "outputs": [
    {
     "data": {
      "text/html": [
       "<div>\n",
       "<style scoped>\n",
       "    .dataframe tbody tr th:only-of-type {\n",
       "        vertical-align: middle;\n",
       "    }\n",
       "\n",
       "    .dataframe tbody tr th {\n",
       "        vertical-align: top;\n",
       "    }\n",
       "\n",
       "    .dataframe thead th {\n",
       "        text-align: right;\n",
       "    }\n",
       "</style>\n",
       "<table border=\"1\" class=\"dataframe\">\n",
       "  <thead>\n",
       "    <tr style=\"text-align: right;\">\n",
       "      <th></th>\n",
       "      <th>Music</th>\n",
       "      <th>Mystery</th>\n",
       "      <th>Romance</th>\n",
       "      <th>Sci_Fi</th>\n",
       "      <th>Thriller</th>\n",
       "      <th>War</th>\n",
       "      <th>Western</th>\n",
       "      <th>TV Movie</th>\n",
       "      <th>Action</th>\n",
       "    </tr>\n",
       "  </thead>\n",
       "  <tbody>\n",
       "    <tr>\n",
       "      <th>0</th>\n",
       "      <td></td>\n",
       "      <td></td>\n",
       "      <td></td>\n",
       "      <td>Sci_Fi,</td>\n",
       "      <td></td>\n",
       "      <td></td>\n",
       "      <td></td>\n",
       "      <td></td>\n",
       "      <td>Action,</td>\n",
       "    </tr>\n",
       "    <tr>\n",
       "      <th>1</th>\n",
       "      <td></td>\n",
       "      <td></td>\n",
       "      <td></td>\n",
       "      <td></td>\n",
       "      <td></td>\n",
       "      <td></td>\n",
       "      <td></td>\n",
       "      <td></td>\n",
       "      <td>Action,</td>\n",
       "    </tr>\n",
       "    <tr>\n",
       "      <th>2</th>\n",
       "      <td></td>\n",
       "      <td></td>\n",
       "      <td></td>\n",
       "      <td></td>\n",
       "      <td></td>\n",
       "      <td></td>\n",
       "      <td></td>\n",
       "      <td></td>\n",
       "      <td>Action,</td>\n",
       "    </tr>\n",
       "    <tr>\n",
       "      <th>3</th>\n",
       "      <td></td>\n",
       "      <td></td>\n",
       "      <td></td>\n",
       "      <td></td>\n",
       "      <td>Thriller,</td>\n",
       "      <td></td>\n",
       "      <td></td>\n",
       "      <td></td>\n",
       "      <td>Action,</td>\n",
       "    </tr>\n",
       "    <tr>\n",
       "      <th>4</th>\n",
       "      <td></td>\n",
       "      <td></td>\n",
       "      <td></td>\n",
       "      <td>Sci_Fi,</td>\n",
       "      <td></td>\n",
       "      <td></td>\n",
       "      <td></td>\n",
       "      <td></td>\n",
       "      <td>Action,</td>\n",
       "    </tr>\n",
       "    <tr>\n",
       "      <th>...</th>\n",
       "      <td>...</td>\n",
       "      <td>...</td>\n",
       "      <td>...</td>\n",
       "      <td>...</td>\n",
       "      <td>...</td>\n",
       "      <td>...</td>\n",
       "      <td>...</td>\n",
       "      <td>...</td>\n",
       "      <td>...</td>\n",
       "    </tr>\n",
       "    <tr>\n",
       "      <th>4798</th>\n",
       "      <td></td>\n",
       "      <td></td>\n",
       "      <td></td>\n",
       "      <td></td>\n",
       "      <td>Thriller,</td>\n",
       "      <td></td>\n",
       "      <td></td>\n",
       "      <td></td>\n",
       "      <td>Action,</td>\n",
       "    </tr>\n",
       "    <tr>\n",
       "      <th>4799</th>\n",
       "      <td></td>\n",
       "      <td></td>\n",
       "      <td>Romance,</td>\n",
       "      <td></td>\n",
       "      <td></td>\n",
       "      <td></td>\n",
       "      <td></td>\n",
       "      <td></td>\n",
       "      <td></td>\n",
       "    </tr>\n",
       "    <tr>\n",
       "      <th>4800</th>\n",
       "      <td></td>\n",
       "      <td></td>\n",
       "      <td>Romance,</td>\n",
       "      <td></td>\n",
       "      <td></td>\n",
       "      <td></td>\n",
       "      <td></td>\n",
       "      <td>TV Movie,</td>\n",
       "      <td></td>\n",
       "    </tr>\n",
       "    <tr>\n",
       "      <th>4801</th>\n",
       "      <td></td>\n",
       "      <td></td>\n",
       "      <td></td>\n",
       "      <td></td>\n",
       "      <td></td>\n",
       "      <td></td>\n",
       "      <td></td>\n",
       "      <td></td>\n",
       "      <td></td>\n",
       "    </tr>\n",
       "    <tr>\n",
       "      <th>4802</th>\n",
       "      <td></td>\n",
       "      <td></td>\n",
       "      <td></td>\n",
       "      <td></td>\n",
       "      <td></td>\n",
       "      <td></td>\n",
       "      <td></td>\n",
       "      <td></td>\n",
       "      <td></td>\n",
       "    </tr>\n",
       "  </tbody>\n",
       "</table>\n",
       "<p>4803 rows × 9 columns</p>\n",
       "</div>"
      ],
      "text/plain": [
       "     Music Mystery   Romance   Sci_Fi   Thriller War Western   TV Movie  \\\n",
       "0                             Sci_Fi,                                     \n",
       "1                                                                         \n",
       "2                                                                         \n",
       "3                                      Thriller,                          \n",
       "4                             Sci_Fi,                                     \n",
       "...    ...     ...       ...      ...        ...  ..     ...        ...   \n",
       "4798                                   Thriller,                          \n",
       "4799                Romance,                                              \n",
       "4800                Romance,                                  TV Movie,   \n",
       "4801                                                                      \n",
       "4802                                                                      \n",
       "\n",
       "       Action  \n",
       "0     Action,  \n",
       "1     Action,  \n",
       "2     Action,  \n",
       "3     Action,  \n",
       "4     Action,  \n",
       "...       ...  \n",
       "4798  Action,  \n",
       "4799           \n",
       "4800           \n",
       "4801           \n",
       "4802           \n",
       "\n",
       "[4803 rows x 9 columns]"
      ]
     },
     "execution_count": 93,
     "metadata": {},
     "output_type": "execute_result"
    }
   ],
   "source": [
    "tmdb.iloc[:,30:]"
   ]
  },
  {
   "cell_type": "markdown",
   "metadata": {},
   "source": [
    "##### CREATE A NUMBERICAL COLUMN BASED ON GENRE OF THE MOVIE"
   ]
  },
  {
   "cell_type": "code",
   "execution_count": 94,
   "metadata": {},
   "outputs": [],
   "source": [
    "tmdb['Actioncount']=tmdb['genres'].apply(lambda x: 1 if 'Adventure' in x else 0 )\n",
    "tmdb['Adventurecount']=tmdb['genres'].apply(lambda x: 1 if 'Adventure' in x else 0 )\n",
    "tmdb['Animationcount']=tmdb['genres'].apply(lambda x: 1 if 'Animation' in x else 0 )\n",
    "tmdb['Comedycount']=tmdb['genres'].apply(lambda x: 1 if 'Comedy' in x else 0 )\n",
    "tmdb['Crimecount']=tmdb['genres'].apply(lambda x: 1 if 'Crime' in x else 0 )\n",
    "tmdb['Documentarycount']=tmdb['genres'].apply(lambda x: 1 if 'Documentary' in x else 0 )\n",
    "tmdb['Dramacount']=tmdb['genres'].apply(lambda x: 1 if 'Drama' in x else 0 )\n",
    "tmdb['Fantasycount']=tmdb['genres'].apply(lambda x: 1 if 'Action' in x else 0 )\n",
    "tmdb['Historycount']=tmdb['genres'].apply(lambda x: 1 if 'History' in x else 0 )\n",
    "tmdb['Horrorcount']=tmdb['genres'].apply(lambda x: 1 if 'Horror' in x else 0 )\n",
    "tmdb['Musiccount']=tmdb['genres'].apply(lambda x: 1 if 'Music' in x else 0 )\n",
    "tmdb['Mysterycount']=tmdb['genres'].apply(lambda x: 1 if 'Mystery' in x else 0 )\n",
    "tmdb['Romancecount']=tmdb['genres'].apply(lambda x: 1 if 'Romance' in x else 0 )\n",
    "tmdb['Sci_Ficount']=tmdb['genres'].apply(lambda x: 1 if 'Science Fiction' in x else 0 )\n",
    "tmdb['Thrillercount']=tmdb['genres'].apply(lambda x: 1 if 'Thriller' in x else 0 )\n",
    "tmdb['Warcount']=tmdb['genres'].apply(lambda x: 1 if 'War' in x else 0 )\n",
    "tmdb['Westerncount']=tmdb['genres'].apply(lambda x: 1 if 'Western' in x else 0 )\n",
    "tmdb['TV Moviecount']=tmdb['genres'].apply(lambda x: 1 if 'TV Movie' in x else 0 )"
   ]
  },
  {
   "cell_type": "markdown",
   "metadata": {},
   "source": [
    "Numerical columns have been created for Statistical operation of the data"
   ]
  },
  {
   "cell_type": "markdown",
   "metadata": {},
   "source": [
    "##### To get the movie summary by decade`, we first convert all cell values to integer"
   ]
  },
  {
   "cell_type": "code",
   "execution_count": 95,
   "metadata": {},
   "outputs": [],
   "source": [
    "tmdb.Year=pd.to_numeric(tmdb.Year)"
   ]
  },
  {
   "cell_type": "code",
   "execution_count": 96,
   "metadata": {},
   "outputs": [],
   "source": [
    "tmdb['Decade']=pd.cut(tmdb['Year'],bins=[0,1919,1929,1939,1949,1959,1969,1979,1989,1999,2009,2019],labels=['10s','20s','30s','40s','50s','60s','70s','80s','90s','2000s','2010s'])\n",
    "#Years are grouped into decades"
   ]
  },
  {
   "cell_type": "markdown",
   "metadata": {},
   "source": [
    "\n",
    "## Exploratory Data Analysis\n",
    "\n",
    "\n",
    "### Research Question 1 (Replace this header name!)"
   ]
  },
  {
   "cell_type": "markdown",
   "metadata": {},
   "source": [
    "#### Most Numbers of Genre type in the dataset are:\n",
    "i.  Drama          2297\n",
    "ii. Comedy         1722\n",
    "iii.Thriller       1274"
   ]
  },
  {
   "cell_type": "code",
   "execution_count": 97,
   "metadata": {
    "scrolled": true
   },
   "outputs": [
    {
     "data": {
      "text/plain": [
       "Crimecount           696\n",
       "Documentarycount     110\n",
       "Dramacount          2297\n",
       "Fantasycount        1154\n",
       "Historycount         197\n",
       "Horrorcount          519\n",
       "Musiccount           185\n",
       "Mysterycount         348\n",
       "Romancecount         894\n",
       "Sci_Ficount          535\n",
       "Thrillercount       1274\n",
       "Warcount             144\n",
       "Westerncount          82\n",
       "dtype: int64"
      ]
     },
     "execution_count": 97,
     "metadata": {},
     "output_type": "execute_result"
    }
   ],
   "source": [
    "tmdb.iloc[:,43:56].sum()"
   ]
  },
  {
   "cell_type": "markdown",
   "metadata": {},
   "source": [
    "## Questions  \n",
    "Which Genre are the most profitable?\n",
    "Which Genre are the least profitable?\n",
    "Which Genre is the Most popular?\n",
    "Which Decade is the most Profitable?"
   ]
  },
  {
   "cell_type": "code",
   "execution_count": 98,
   "metadata": {},
   "outputs": [],
   "source": [
    "#summarize by the Decade\n",
    "#This creates a column for the profit made by \n",
    "tmdb['Profit']=tmdb['revenue']-tmdb['budget']\n",
    "\n"
   ]
  },
  {
   "cell_type": "markdown",
   "metadata": {},
   "source": [
    "#### Visualization of Profit in correlation to Revenue and Budget"
   ]
  },
  {
   "cell_type": "code",
   "execution_count": 99,
   "metadata": {
    "scrolled": false
   },
   "outputs": [
    {
     "data": {
      "text/plain": [
       "<AxesSubplot:xlabel='revenue', ylabel='Profit'>"
      ]
     },
     "execution_count": 99,
     "metadata": {},
     "output_type": "execute_result"
    },
    {
     "data": {
      "image/png": "[encoded data removed]",
      "text/plain": [
       "<Figure size 432x288 with 1 Axes>"
      ]
     },
     "metadata": {
      "needs_background": "light"
     },
     "output_type": "display_data"
    }
   ],
   "source": [
    "sns.scatterplot(x='revenue',y='Profit',data=tmdb)"
   ]
  },
  {
   "cell_type": "markdown",
   "metadata": {},
   "source": [
    "Explanatory Note:There is a strong positive relationship between the Revenue and Profit"
   ]
  },
  {
   "cell_type": "code",
   "execution_count": 100,
   "metadata": {
    "scrolled": false
   },
   "outputs": [
    {
     "data": {
      "text/plain": [
       "<AxesSubplot:xlabel='budget', ylabel='Profit'>"
      ]
     },
     "execution_count": 100,
     "metadata": {},
     "output_type": "execute_result"
    },
    {
     "data": {
      "image/png": "[encoded data removed]",
      "text/plain": [
       "<Figure size 432x288 with 1 Axes>"
      ]
     },
     "metadata": {
      "needs_background": "light"
     },
     "output_type": "display_data"
    }
   ],
   "source": [
    "sns.scatterplot(x='budget',y='Profit',data=tmdb)"
   ]
  },
  {
   "cell_type": "markdown",
   "metadata": {},
   "source": [
    "Explanatory note:There is no positive relationship between the profit and budget"
   ]
  },
  {
   "cell_type": "code",
   "execution_count": 101,
   "metadata": {},
   "outputs": [
    {
     "data": {
      "text/plain": [
       "<AxesSubplot:xlabel='budget', ylabel='revenue'>"
      ]
     },
     "execution_count": 101,
     "metadata": {},
     "output_type": "execute_result"
    },
    {
     "data": {
      "image/png": "[encoded data removed]",
      "text/plain": [
       "<Figure size 432x288 with 1 Axes>"
      ]
     },
     "metadata": {
      "needs_background": "light"
     },
     "output_type": "display_data"
    }
   ],
   "source": [
    "sns.scatterplot(x='budget',y='revenue',data=tmdb)"
   ]
  },
  {
   "cell_type": "markdown",
   "metadata": {},
   "source": [
    "Explanatory note:There is no positive relationship between the revenue and budget"
   ]
  },
  {
   "cell_type": "markdown",
   "metadata": {},
   "source": [
    "#### Summary by the Decade"
   ]
  },
  {
   "cell_type": "code",
   "execution_count": 102,
   "metadata": {},
   "outputs": [
    {
     "name": "stderr",
     "output_type": "stream",
     "text": [
      "C:\\Users\\Worldclass 3\\AppData\\Local\\Temp\\ipykernel_16324\\1368385059.py:1: FutureWarning: Indexing with multiple keys (implicitly converted to a tuple of keys) will be deprecated, use a list instead.\n",
      "  Decadeprofit=tmdb.groupby('Decade',as_index=False)['revenue','budget','Profit'].sum()\n"
     ]
    }
   ],
   "source": [
    "Decadeprofit=tmdb.groupby('Decade',as_index=False)['revenue','budget','Profit'].sum()"
   ]
  },
  {
   "cell_type": "code",
   "execution_count": 103,
   "metadata": {
    "scrolled": true
   },
   "outputs": [
    {
     "data": {
      "text/html": [
       "<div>\n",
       "<style scoped>\n",
       "    .dataframe tbody tr th:only-of-type {\n",
       "        vertical-align: middle;\n",
       "    }\n",
       "\n",
       "    .dataframe tbody tr th {\n",
       "        vertical-align: top;\n",
       "    }\n",
       "\n",
       "    .dataframe thead th {\n",
       "        text-align: right;\n",
       "    }\n",
       "</style>\n",
       "<table border=\"1\" class=\"dataframe\">\n",
       "  <thead>\n",
       "    <tr style=\"text-align: right;\">\n",
       "      <th></th>\n",
       "      <th>Decade</th>\n",
       "      <th>revenue</th>\n",
       "      <th>budget</th>\n",
       "      <th>Profit</th>\n",
       "    </tr>\n",
       "  </thead>\n",
       "  <tbody>\n",
       "    <tr>\n",
       "      <th>10</th>\n",
       "      <td>2010s</td>\n",
       "      <td>149775371227</td>\n",
       "      <td>49831499062</td>\n",
       "      <td>99943872165</td>\n",
       "    </tr>\n",
       "    <tr>\n",
       "      <th>9</th>\n",
       "      <td>2000s</td>\n",
       "      <td>156602186639</td>\n",
       "      <td>62409076376</td>\n",
       "      <td>94193110263</td>\n",
       "    </tr>\n",
       "    <tr>\n",
       "      <th>8</th>\n",
       "      <td>90s</td>\n",
       "      <td>61301228838</td>\n",
       "      <td>22304952481</td>\n",
       "      <td>38996276357</td>\n",
       "    </tr>\n",
       "    <tr>\n",
       "      <th>7</th>\n",
       "      <td>80s</td>\n",
       "      <td>16963368503</td>\n",
       "      <td>3607927523</td>\n",
       "      <td>13355440980</td>\n",
       "    </tr>\n",
       "    <tr>\n",
       "      <th>6</th>\n",
       "      <td>70s</td>\n",
       "      <td>6543658156</td>\n",
       "      <td>763891740</td>\n",
       "      <td>5779766416</td>\n",
       "    </tr>\n",
       "    <tr>\n",
       "      <th>5</th>\n",
       "      <td>60s</td>\n",
       "      <td>2228628931</td>\n",
       "      <td>354340835</td>\n",
       "      <td>1874288096</td>\n",
       "    </tr>\n",
       "    <tr>\n",
       "      <th>2</th>\n",
       "      <td>30s</td>\n",
       "      <td>671309038</td>\n",
       "      <td>20133164</td>\n",
       "      <td>651175874</td>\n",
       "    </tr>\n",
       "    <tr>\n",
       "      <th>3</th>\n",
       "      <td>40s</td>\n",
       "      <td>592750774</td>\n",
       "      <td>45932000</td>\n",
       "      <td>546818774</td>\n",
       "    </tr>\n",
       "    <tr>\n",
       "      <th>4</th>\n",
       "      <td>50s</td>\n",
       "      <td>383942165</td>\n",
       "      <td>71943433</td>\n",
       "      <td>311998732</td>\n",
       "    </tr>\n",
       "    <tr>\n",
       "      <th>0</th>\n",
       "      <td>10s</td>\n",
       "      <td>8394751</td>\n",
       "      <td>385907</td>\n",
       "      <td>8008844</td>\n",
       "    </tr>\n",
       "    <tr>\n",
       "      <th>1</th>\n",
       "      <td>20s</td>\n",
       "      <td>27008422</td>\n",
       "      <td>93244000</td>\n",
       "      <td>-66235578</td>\n",
       "    </tr>\n",
       "  </tbody>\n",
       "</table>\n",
       "</div>"
      ],
      "text/plain": [
       "   Decade       revenue       budget       Profit\n",
       "10  2010s  149775371227  49831499062  99943872165\n",
       "9   2000s  156602186639  62409076376  94193110263\n",
       "8     90s   61301228838  22304952481  38996276357\n",
       "7     80s   16963368503   3607927523  13355440980\n",
       "6     70s    6543658156    763891740   5779766416\n",
       "5     60s    2228628931    354340835   1874288096\n",
       "2     30s     671309038     20133164    651175874\n",
       "3     40s     592750774     45932000    546818774\n",
       "4     50s     383942165     71943433    311998732\n",
       "0     10s       8394751       385907      8008844\n",
       "1     20s      27008422     93244000    -66235578"
      ]
     },
     "execution_count": 103,
     "metadata": {},
     "output_type": "execute_result"
    }
   ],
   "source": [
    "Decadeprofit.sort_values('Profit',ascending=False)"
   ]
  },
  {
   "cell_type": "markdown",
   "metadata": {},
   "source": [
    "### The decade with the most profit is 2010-2017"
   ]
  },
  {
   "cell_type": "markdown",
   "metadata": {},
   "source": [
    "### Exploratory Data Analysis"
   ]
  },
  {
   "cell_type": "markdown",
   "metadata": {},
   "source": [
    "###### PROFIT BY DECADE"
   ]
  },
  {
   "cell_type": "markdown",
   "metadata": {
    "collapsed": true
   },
   "source": []
  },
  {
   "cell_type": "markdown",
   "metadata": {},
   "source": [
    "##### Plot Summary of Profit by Decade"
   ]
  },
  {
   "cell_type": "code",
   "execution_count": 104,
   "metadata": {
    "scrolled": true
   },
   "outputs": [
    {
     "data": {
      "text/plain": [
       "[Text(0.5, 1.0, 'Profit per Decade')]"
      ]
     },
     "execution_count": 104,
     "metadata": {},
     "output_type": "execute_result"
    },
    {
     "data": {
      "image/png": "[encoded data removed]",
      "text/plain": [
       "<Figure size 432x288 with 1 Axes>"
      ]
     },
     "metadata": {
      "needs_background": "light"
     },
     "output_type": "display_data"
    }
   ],
   "source": [
    "sns.barplot(x='Decade',y='Profit',data=Decadeprofit,).set(title='Profit per Decade')"
   ]
  },
  {
   "cell_type": "markdown",
   "metadata": {},
   "source": [
    "Note:Profit has increased as the decade go by,More profit is being made from movies"
   ]
  },
  {
   "cell_type": "markdown",
   "metadata": {},
   "source": [
    "### Total summary of Action movie genre by Year"
   ]
  },
  {
   "cell_type": "code",
   "execution_count": 105,
   "metadata": {},
   "outputs": [],
   "source": [
    "actionsum=tmdb.groupby('Decade')['Actioncount'].sum()"
   ]
  },
  {
   "cell_type": "code",
   "execution_count": 106,
   "metadata": {
    "scrolled": false
   },
   "outputs": [
    {
     "data": {
      "text/plain": [
       "Decade\n",
       "10s        0\n",
       "20s        0\n",
       "30s        3\n",
       "40s        1\n",
       "50s        3\n",
       "60s       14\n",
       "70s       29\n",
       "80s       75\n",
       "90s      127\n",
       "2000s    320\n",
       "2010s    218\n",
       "Name: Actioncount, dtype: int64"
      ]
     },
     "execution_count": 106,
     "metadata": {},
     "output_type": "execute_result"
    }
   ],
   "source": [
    "actionsum"
   ]
  },
  {
   "cell_type": "markdown",
   "metadata": {},
   "source": [
    "General summary of Action Movies over the years"
   ]
  },
  {
   "cell_type": "markdown",
   "metadata": {},
   "source": [
    "Exploration of the Action Genre"
   ]
  },
  {
   "cell_type": "code",
   "execution_count": 107,
   "metadata": {
    "scrolled": true
   },
   "outputs": [
    {
     "data": {
      "text/plain": [
       "<AxesSubplot:title={'center':'Action Movies per Decade'}, xlabel='Decade', ylabel='Movie Count'>"
      ]
     },
     "execution_count": 107,
     "metadata": {},
     "output_type": "execute_result"
    },
    {
     "data": {
      "image/png": "[encoded data removed]",
      "text/plain": [
       "<Figure size 432x288 with 1 Axes>"
      ]
     },
     "metadata": {
      "needs_background": "light"
     },
     "output_type": "display_data"
    }
   ],
   "source": [
    "actionsum.plot(x='Decade',y='Actioncount',kind='bar',title='Action Movies per Decade',ylabel='Movie Count',xlabel='Decade')"
   ]
  },
  {
   "cell_type": "markdown",
   "metadata": {},
   "source": [
    "#### MOVIE COUNT BY GENRE AND DECADE"
   ]
  },
  {
   "cell_type": "code",
   "execution_count": 108,
   "metadata": {
    "scrolled": true
   },
   "outputs": [
    {
     "name": "stderr",
     "output_type": "stream",
     "text": [
      "C:\\Users\\Worldclass 3\\AppData\\Local\\Temp\\ipykernel_16324\\546733720.py:1: FutureWarning: Indexing with multiple keys (implicitly converted to a tuple of keys) will be deprecated, use a list instead.\n",
      "  moviecount=tmdb.groupby('Decade',as_index=False)['Adventurecount','Actioncount','Dramacount','Fantasycount','Historycount','Horrorcount','Musiccount','Mysterycount','Romancecount','Sci_Ficount','Thrillercount','Westerncount','TV Moviecount'].sum()\n"
     ]
    }
   ],
   "source": [
    "moviecount=tmdb.groupby('Decade',as_index=False)['Adventurecount','Actioncount','Dramacount','Fantasycount','Historycount','Horrorcount','Musiccount','Mysterycount','Romancecount','Sci_Ficount','Thrillercount','Westerncount','TV Moviecount'].sum()\n",
    "\n",
    "#creates total sum of movie genre per decade"
   ]
  },
  {
   "cell_type": "code",
   "execution_count": 109,
   "metadata": {
    "scrolled": true
   },
   "outputs": [
    {
     "data": {
      "text/html": [
       "<div>\n",
       "<style scoped>\n",
       "    .dataframe tbody tr th:only-of-type {\n",
       "        vertical-align: middle;\n",
       "    }\n",
       "\n",
       "    .dataframe tbody tr th {\n",
       "        vertical-align: top;\n",
       "    }\n",
       "\n",
       "    .dataframe thead th {\n",
       "        text-align: right;\n",
       "    }\n",
       "</style>\n",
       "<table border=\"1\" class=\"dataframe\">\n",
       "  <thead>\n",
       "    <tr style=\"text-align: right;\">\n",
       "      <th></th>\n",
       "      <th>Decade</th>\n",
       "      <th>Adventurecount</th>\n",
       "      <th>Actioncount</th>\n",
       "      <th>Dramacount</th>\n",
       "      <th>Fantasycount</th>\n",
       "      <th>Historycount</th>\n",
       "      <th>Horrorcount</th>\n",
       "      <th>Musiccount</th>\n",
       "      <th>Mysterycount</th>\n",
       "      <th>Romancecount</th>\n",
       "      <th>Sci_Ficount</th>\n",
       "      <th>Thrillercount</th>\n",
       "      <th>Westerncount</th>\n",
       "      <th>TV Moviecount</th>\n",
       "    </tr>\n",
       "  </thead>\n",
       "  <tbody>\n",
       "    <tr>\n",
       "      <th>0</th>\n",
       "      <td>10s</td>\n",
       "      <td>0</td>\n",
       "      <td>0</td>\n",
       "      <td>1</td>\n",
       "      <td>0</td>\n",
       "      <td>0</td>\n",
       "      <td>0</td>\n",
       "      <td>0</td>\n",
       "      <td>0</td>\n",
       "      <td>0</td>\n",
       "      <td>0</td>\n",
       "      <td>0</td>\n",
       "      <td>0</td>\n",
       "      <td>0</td>\n",
       "    </tr>\n",
       "    <tr>\n",
       "      <th>1</th>\n",
       "      <td>20s</td>\n",
       "      <td>0</td>\n",
       "      <td>0</td>\n",
       "      <td>4</td>\n",
       "      <td>0</td>\n",
       "      <td>0</td>\n",
       "      <td>0</td>\n",
       "      <td>1</td>\n",
       "      <td>0</td>\n",
       "      <td>3</td>\n",
       "      <td>1</td>\n",
       "      <td>1</td>\n",
       "      <td>0</td>\n",
       "      <td>0</td>\n",
       "    </tr>\n",
       "    <tr>\n",
       "      <th>2</th>\n",
       "      <td>30s</td>\n",
       "      <td>3</td>\n",
       "      <td>3</td>\n",
       "      <td>8</td>\n",
       "      <td>2</td>\n",
       "      <td>1</td>\n",
       "      <td>0</td>\n",
       "      <td>3</td>\n",
       "      <td>0</td>\n",
       "      <td>8</td>\n",
       "      <td>0</td>\n",
       "      <td>0</td>\n",
       "      <td>0</td>\n",
       "      <td>0</td>\n",
       "    </tr>\n",
       "    <tr>\n",
       "      <th>3</th>\n",
       "      <td>40s</td>\n",
       "      <td>1</td>\n",
       "      <td>1</td>\n",
       "      <td>16</td>\n",
       "      <td>2</td>\n",
       "      <td>2</td>\n",
       "      <td>0</td>\n",
       "      <td>4</td>\n",
       "      <td>4</td>\n",
       "      <td>8</td>\n",
       "      <td>0</td>\n",
       "      <td>2</td>\n",
       "      <td>3</td>\n",
       "      <td>0</td>\n",
       "    </tr>\n",
       "    <tr>\n",
       "      <th>4</th>\n",
       "      <td>50s</td>\n",
       "      <td>3</td>\n",
       "      <td>3</td>\n",
       "      <td>20</td>\n",
       "      <td>4</td>\n",
       "      <td>4</td>\n",
       "      <td>1</td>\n",
       "      <td>4</td>\n",
       "      <td>1</td>\n",
       "      <td>10</td>\n",
       "      <td>2</td>\n",
       "      <td>2</td>\n",
       "      <td>3</td>\n",
       "      <td>0</td>\n",
       "    </tr>\n",
       "    <tr>\n",
       "      <th>5</th>\n",
       "      <td>60s</td>\n",
       "      <td>14</td>\n",
       "      <td>14</td>\n",
       "      <td>42</td>\n",
       "      <td>17</td>\n",
       "      <td>12</td>\n",
       "      <td>5</td>\n",
       "      <td>8</td>\n",
       "      <td>6</td>\n",
       "      <td>13</td>\n",
       "      <td>5</td>\n",
       "      <td>15</td>\n",
       "      <td>11</td>\n",
       "      <td>1</td>\n",
       "    </tr>\n",
       "    <tr>\n",
       "      <th>6</th>\n",
       "      <td>70s</td>\n",
       "      <td>29</td>\n",
       "      <td>29</td>\n",
       "      <td>49</td>\n",
       "      <td>33</td>\n",
       "      <td>7</td>\n",
       "      <td>15</td>\n",
       "      <td>9</td>\n",
       "      <td>5</td>\n",
       "      <td>16</td>\n",
       "      <td>27</td>\n",
       "      <td>26</td>\n",
       "      <td>4</td>\n",
       "      <td>0</td>\n",
       "    </tr>\n",
       "    <tr>\n",
       "      <th>7</th>\n",
       "      <td>80s</td>\n",
       "      <td>75</td>\n",
       "      <td>75</td>\n",
       "      <td>100</td>\n",
       "      <td>84</td>\n",
       "      <td>17</td>\n",
       "      <td>59</td>\n",
       "      <td>12</td>\n",
       "      <td>11</td>\n",
       "      <td>37</td>\n",
       "      <td>55</td>\n",
       "      <td>71</td>\n",
       "      <td>9</td>\n",
       "      <td>0</td>\n",
       "    </tr>\n",
       "    <tr>\n",
       "      <th>8</th>\n",
       "      <td>90s</td>\n",
       "      <td>127</td>\n",
       "      <td>127</td>\n",
       "      <td>396</td>\n",
       "      <td>200</td>\n",
       "      <td>27</td>\n",
       "      <td>67</td>\n",
       "      <td>20</td>\n",
       "      <td>71</td>\n",
       "      <td>168</td>\n",
       "      <td>92</td>\n",
       "      <td>225</td>\n",
       "      <td>10</td>\n",
       "      <td>0</td>\n",
       "    </tr>\n",
       "    <tr>\n",
       "      <th>9</th>\n",
       "      <td>2000s</td>\n",
       "      <td>320</td>\n",
       "      <td>320</td>\n",
       "      <td>1015</td>\n",
       "      <td>467</td>\n",
       "      <td>77</td>\n",
       "      <td>189</td>\n",
       "      <td>80</td>\n",
       "      <td>163</td>\n",
       "      <td>436</td>\n",
       "      <td>194</td>\n",
       "      <td>536</td>\n",
       "      <td>20</td>\n",
       "      <td>2</td>\n",
       "    </tr>\n",
       "    <tr>\n",
       "      <th>10</th>\n",
       "      <td>2010s</td>\n",
       "      <td>218</td>\n",
       "      <td>218</td>\n",
       "      <td>646</td>\n",
       "      <td>345</td>\n",
       "      <td>50</td>\n",
       "      <td>183</td>\n",
       "      <td>44</td>\n",
       "      <td>87</td>\n",
       "      <td>195</td>\n",
       "      <td>159</td>\n",
       "      <td>396</td>\n",
       "      <td>22</td>\n",
       "      <td>5</td>\n",
       "    </tr>\n",
       "  </tbody>\n",
       "</table>\n",
       "</div>"
      ],
      "text/plain": [
       "   Decade  Adventurecount  Actioncount  Dramacount  Fantasycount  \\\n",
       "0     10s               0            0           1             0   \n",
       "1     20s               0            0           4             0   \n",
       "2     30s               3            3           8             2   \n",
       "3     40s               1            1          16             2   \n",
       "4     50s               3            3          20             4   \n",
       "5     60s              14           14          42            17   \n",
       "6     70s              29           29          49            33   \n",
       "7     80s              75           75         100            84   \n",
       "8     90s             127          127         396           200   \n",
       "9   2000s             320          320        1015           467   \n",
       "10  2010s             218          218         646           345   \n",
       "\n",
       "    Historycount  Horrorcount  Musiccount  Mysterycount  Romancecount  \\\n",
       "0              0            0           0             0             0   \n",
       "1              0            0           1             0             3   \n",
       "2              1            0           3             0             8   \n",
       "3              2            0           4             4             8   \n",
       "4              4            1           4             1            10   \n",
       "5             12            5           8             6            13   \n",
       "6              7           15           9             5            16   \n",
       "7             17           59          12            11            37   \n",
       "8             27           67          20            71           168   \n",
       "9             77          189          80           163           436   \n",
       "10            50          183          44            87           195   \n",
       "\n",
       "    Sci_Ficount  Thrillercount  Westerncount  TV Moviecount  \n",
       "0             0              0             0              0  \n",
       "1             1              1             0              0  \n",
       "2             0              0             0              0  \n",
       "3             0              2             3              0  \n",
       "4             2              2             3              0  \n",
       "5             5             15            11              1  \n",
       "6            27             26             4              0  \n",
       "7            55             71             9              0  \n",
       "8            92            225            10              0  \n",
       "9           194            536            20              2  \n",
       "10          159            396            22              5  "
      ]
     },
     "execution_count": 109,
     "metadata": {},
     "output_type": "execute_result"
    }
   ],
   "source": [
    "moviecount"
   ]
  },
  {
   "cell_type": "markdown",
   "metadata": {},
   "source": [
    "Movie count per Decade and Genre"
   ]
  },
  {
   "cell_type": "markdown",
   "metadata": {},
   "source": [
    "##### MOVIES PLOT BY GENRE AND DECADE"
   ]
  },
  {
   "cell_type": "code",
   "execution_count": 110,
   "metadata": {
    "scrolled": true
   },
   "outputs": [
    {
     "data": {
      "text/plain": [
       "<AxesSubplot:title={'center':'Movies Genre Released per Decade'}, xlabel='Decade', ylabel='Movie Count'>"
      ]
     },
     "execution_count": 110,
     "metadata": {},
     "output_type": "execute_result"
    },
    {
     "data": {
      "image/png": "[encoded data removed]",
      "text/plain": [
       "<Figure size 1440x576 with 1 Axes>"
      ]
     },
     "metadata": {
      "needs_background": "light"
     },
     "output_type": "display_data"
    }
   ],
   "source": [
    "moviecount.plot(x='Decade',y=['Adventurecount','Actioncount','Dramacount','Fantasycount','Historycount','Horrorcount','Musiccount','Mysterycount','Romancecount','Sci_Ficount','Thrillercount','Westerncount','TV Moviecount'],kind='bar',figsize=(20,8),title='Movies Genre Released per Decade',ylabel='Movie Count',xlabel='Decade')"
   ]
  },
  {
   "cell_type": "markdown",
   "metadata": {},
   "source": [
    "##### Summary of Profit by the Decade"
   ]
  },
  {
   "cell_type": "code",
   "execution_count": 111,
   "metadata": {
    "scrolled": false
   },
   "outputs": [
    {
     "name": "stderr",
     "output_type": "stream",
     "text": [
      "C:\\Users\\Worldclass 3\\AppData\\Local\\Temp\\ipykernel_16324\\4266082735.py:1: FutureWarning: Indexing with multiple keys (implicitly converted to a tuple of keys) will be deprecated, use a list instead.\n",
      "  profiting=tmdb.groupby('Decade',as_index=False)['revenue','budget','Profit'].sum()\n"
     ]
    }
   ],
   "source": [
    "profiting=tmdb.groupby('Decade',as_index=False)['revenue','budget','Profit'].sum()"
   ]
  },
  {
   "cell_type": "code",
   "execution_count": 112,
   "metadata": {
    "scrolled": true
   },
   "outputs": [
    {
     "data": {
      "text/html": [
       "<div>\n",
       "<style scoped>\n",
       "    .dataframe tbody tr th:only-of-type {\n",
       "        vertical-align: middle;\n",
       "    }\n",
       "\n",
       "    .dataframe tbody tr th {\n",
       "        vertical-align: top;\n",
       "    }\n",
       "\n",
       "    .dataframe thead th {\n",
       "        text-align: right;\n",
       "    }\n",
       "</style>\n",
       "<table border=\"1\" class=\"dataframe\">\n",
       "  <thead>\n",
       "    <tr style=\"text-align: right;\">\n",
       "      <th></th>\n",
       "      <th>Decade</th>\n",
       "      <th>revenue</th>\n",
       "      <th>budget</th>\n",
       "      <th>Profit</th>\n",
       "    </tr>\n",
       "  </thead>\n",
       "  <tbody>\n",
       "    <tr>\n",
       "      <th>0</th>\n",
       "      <td>10s</td>\n",
       "      <td>8394751</td>\n",
       "      <td>385907</td>\n",
       "      <td>8008844</td>\n",
       "    </tr>\n",
       "    <tr>\n",
       "      <th>1</th>\n",
       "      <td>20s</td>\n",
       "      <td>27008422</td>\n",
       "      <td>93244000</td>\n",
       "      <td>-66235578</td>\n",
       "    </tr>\n",
       "    <tr>\n",
       "      <th>2</th>\n",
       "      <td>30s</td>\n",
       "      <td>671309038</td>\n",
       "      <td>20133164</td>\n",
       "      <td>651175874</td>\n",
       "    </tr>\n",
       "    <tr>\n",
       "      <th>3</th>\n",
       "      <td>40s</td>\n",
       "      <td>592750774</td>\n",
       "      <td>45932000</td>\n",
       "      <td>546818774</td>\n",
       "    </tr>\n",
       "    <tr>\n",
       "      <th>4</th>\n",
       "      <td>50s</td>\n",
       "      <td>383942165</td>\n",
       "      <td>71943433</td>\n",
       "      <td>311998732</td>\n",
       "    </tr>\n",
       "    <tr>\n",
       "      <th>5</th>\n",
       "      <td>60s</td>\n",
       "      <td>2228628931</td>\n",
       "      <td>354340835</td>\n",
       "      <td>1874288096</td>\n",
       "    </tr>\n",
       "    <tr>\n",
       "      <th>6</th>\n",
       "      <td>70s</td>\n",
       "      <td>6543658156</td>\n",
       "      <td>763891740</td>\n",
       "      <td>5779766416</td>\n",
       "    </tr>\n",
       "    <tr>\n",
       "      <th>7</th>\n",
       "      <td>80s</td>\n",
       "      <td>16963368503</td>\n",
       "      <td>3607927523</td>\n",
       "      <td>13355440980</td>\n",
       "    </tr>\n",
       "    <tr>\n",
       "      <th>8</th>\n",
       "      <td>90s</td>\n",
       "      <td>61301228838</td>\n",
       "      <td>22304952481</td>\n",
       "      <td>38996276357</td>\n",
       "    </tr>\n",
       "    <tr>\n",
       "      <th>9</th>\n",
       "      <td>2000s</td>\n",
       "      <td>156602186639</td>\n",
       "      <td>62409076376</td>\n",
       "      <td>94193110263</td>\n",
       "    </tr>\n",
       "    <tr>\n",
       "      <th>10</th>\n",
       "      <td>2010s</td>\n",
       "      <td>149775371227</td>\n",
       "      <td>49831499062</td>\n",
       "      <td>99943872165</td>\n",
       "    </tr>\n",
       "  </tbody>\n",
       "</table>\n",
       "</div>"
      ],
      "text/plain": [
       "   Decade       revenue       budget       Profit\n",
       "0     10s       8394751       385907      8008844\n",
       "1     20s      27008422     93244000    -66235578\n",
       "2     30s     671309038     20133164    651175874\n",
       "3     40s     592750774     45932000    546818774\n",
       "4     50s     383942165     71943433    311998732\n",
       "5     60s    2228628931    354340835   1874288096\n",
       "6     70s    6543658156    763891740   5779766416\n",
       "7     80s   16963368503   3607927523  13355440980\n",
       "8     90s   61301228838  22304952481  38996276357\n",
       "9   2000s  156602186639  62409076376  94193110263\n",
       "10  2010s  149775371227  49831499062  99943872165"
      ]
     },
     "execution_count": 112,
     "metadata": {},
     "output_type": "execute_result"
    }
   ],
   "source": [
    "profiting"
   ]
  },
  {
   "cell_type": "markdown",
   "metadata": {},
   "source": [
    "Explanatory Note:This is a summary of the budget,revenue and profit made by the decade"
   ]
  },
  {
   "cell_type": "code",
   "execution_count": 113,
   "metadata": {},
   "outputs": [
    {
     "data": {
      "text/plain": [
       "Actioncount          790\n",
       "Adventurecount       790\n",
       "Animationcount       234\n",
       "Comedycount         1722\n",
       "Crimecount           696\n",
       "Documentarycount     110\n",
       "Dramacount          2297\n",
       "Fantasycount        1154\n",
       "Historycount         197\n",
       "Horrorcount          519\n",
       "Musiccount           185\n",
       "Mysterycount         348\n",
       "Romancecount         894\n",
       "Sci_Ficount          535\n",
       "Thrillercount       1274\n",
       "Warcount             144\n",
       "Westerncount          82\n",
       "dtype: int64"
      ]
     },
     "execution_count": 113,
     "metadata": {},
     "output_type": "execute_result"
    }
   ],
   "source": [
    "tmdb.iloc[:,39:56].sum()"
   ]
  },
  {
   "cell_type": "markdown",
   "metadata": {},
   "source": [
    "Movie counts per Genre"
   ]
  },
  {
   "cell_type": "markdown",
   "metadata": {},
   "source": [
    "##### TO GET THE PROFITABILITY PER GENRE"
   ]
  },
  {
   "cell_type": "code",
   "execution_count": 114,
   "metadata": {},
   "outputs": [],
   "source": [
    "Adventureprofit=tmdb[tmdb['Adventure']=='Adventure,']['Profit'].sum(),\n",
    "Actionprofit=tmdb[tmdb['Action']=='Action,']['Profit'].sum(),\n",
    "Dramaprofit=tmdb[tmdb['Drama']=='Drama,']['Profit'].sum(),\n",
    "Animationprofit=tmdb[tmdb['Animation']=='Animation,']['Profit'].sum(),\n",
    "Comedyprofit=tmdb[tmdb['Comedy']=='Comedy,']['Profit'].sum(),\n",
    "Crimeprofit=tmdb[tmdb['Crime']=='Crime,']['Profit'].sum(),\n",
    "Documentaryprofit=tmdb[tmdb['Documentary']=='Documentary,']['Profit'].sum(),\n",
    "Fantasyprofit=tmdb[tmdb['Fantasy']=='Fantasy,']['Profit'].sum(),\n",
    "Historyprofit=tmdb[tmdb['History']=='History,']['Profit'].sum(),\n",
    "Horrorprofit=tmdb[tmdb['Horror']=='Horror,']['Profit'].sum(),\n",
    "Musicprofit=tmdb[tmdb['Music']=='Music,']['Profit'].sum(),\n",
    "Mysteryprofit=tmdb[tmdb['Mystery']=='Mystery,']['Profit'].sum(),\n",
    "Romanceprofit=tmdb[tmdb['Romance']=='Romance,']['Profit'].sum(),\n",
    "Sci_Fiprofit=tmdb[tmdb['Sci_Ficount']==1]['Profit'].sum(),\n",
    "Thrillerprofit=tmdb[tmdb['Thriller']=='Thriller,']['Profit'].sum(),\n",
    "Westernprofit=tmdb[tmdb['Western']=='Western,']['Profit'].sum(),\n",
    "TVMovieprofit=tmdb[tmdb['TV Movie']=='TV Movie,']['Profit'].sum(),\n",
    "Warprofit=tmdb[tmdb['War']=='War']['Profit'].sum(),\n",
    "\n",
    "#creates the total profit per genre"
   ]
  },
  {
   "cell_type": "code",
   "execution_count": 115,
   "metadata": {},
   "outputs": [],
   "source": [
    "Profitsummary=pd.DataFrame(index=['Adventure','Action','Drama','Animation','Comedy','Crime','Documentary','Fantasy','History','Horror','Music','Mystery','Romance','Sci_Fi','Thriller','Western','TV Movie','War'],\n",
    "                           data=[Adventureprofit,Actionprofit,Dramaprofit,Animationprofit,Comedyprofit,Crimeprofit,Documentaryprofit,Fantasyprofit,Historyprofit,Horrorprofit,Musicprofit,Mysteryprofit,Romanceprofit,Sci_Fiprofit,Thrillerprofit,Westernprofit,TVMovieprofit,Warprofit]\n",
    "                           ,columns=['Total Profit'])"
   ]
  },
  {
   "cell_type": "markdown",
   "metadata": {},
   "source": [
    "Creating a table for total Profit per genre"
   ]
  },
  {
   "cell_type": "markdown",
   "metadata": {},
   "source": [
    "##### TOTAL SUMMARY OF EACH MOVIE PROFIT BY GENRE"
   ]
  },
  {
   "cell_type": "code",
   "execution_count": 116,
   "metadata": {
    "scrolled": true
   },
   "outputs": [
    {
     "data": {
      "text/html": [
       "<div>\n",
       "<style scoped>\n",
       "    .dataframe tbody tr th:only-of-type {\n",
       "        vertical-align: middle;\n",
       "    }\n",
       "\n",
       "    .dataframe tbody tr th {\n",
       "        vertical-align: top;\n",
       "    }\n",
       "\n",
       "    .dataframe thead th {\n",
       "        text-align: right;\n",
       "    }\n",
       "</style>\n",
       "<table border=\"1\" class=\"dataframe\">\n",
       "  <thead>\n",
       "    <tr style=\"text-align: right;\">\n",
       "      <th></th>\n",
       "      <th>Total Profit</th>\n",
       "    </tr>\n",
       "  </thead>\n",
       "  <tbody>\n",
       "    <tr>\n",
       "      <th>Adventure</th>\n",
       "      <td>112443341088</td>\n",
       "    </tr>\n",
       "    <tr>\n",
       "      <th>Fantasy</th>\n",
       "      <td>103516507916</td>\n",
       "    </tr>\n",
       "    <tr>\n",
       "      <th>Action</th>\n",
       "      <td>103516507916</td>\n",
       "    </tr>\n",
       "    <tr>\n",
       "      <th>Comedy</th>\n",
       "      <td>79170805799</td>\n",
       "    </tr>\n",
       "    <tr>\n",
       "      <th>Drama</th>\n",
       "      <td>72212871827</td>\n",
       "    </tr>\n",
       "    <tr>\n",
       "      <th>Thriller</th>\n",
       "      <td>62522930845</td>\n",
       "    </tr>\n",
       "    <tr>\n",
       "      <th>Sci_Fi</th>\n",
       "      <td>53816165880</td>\n",
       "    </tr>\n",
       "    <tr>\n",
       "      <th>Animation</th>\n",
       "      <td>37259146809</td>\n",
       "    </tr>\n",
       "    <tr>\n",
       "      <th>Romance</th>\n",
       "      <td>35483779802</td>\n",
       "    </tr>\n",
       "    <tr>\n",
       "      <th>Crime</th>\n",
       "      <td>26657394212</td>\n",
       "    </tr>\n",
       "    <tr>\n",
       "      <th>Mystery</th>\n",
       "      <td>16549641311</td>\n",
       "    </tr>\n",
       "    <tr>\n",
       "      <th>Horror</th>\n",
       "      <td>15035972672</td>\n",
       "    </tr>\n",
       "    <tr>\n",
       "      <th>War</th>\n",
       "      <td>7037772032</td>\n",
       "    </tr>\n",
       "    <tr>\n",
       "      <th>Music</th>\n",
       "      <td>6021380783</td>\n",
       "    </tr>\n",
       "    <tr>\n",
       "      <th>History</th>\n",
       "      <td>5441158801</td>\n",
       "    </tr>\n",
       "    <tr>\n",
       "      <th>Western</th>\n",
       "      <td>1571715510</td>\n",
       "    </tr>\n",
       "    <tr>\n",
       "      <th>Documentary</th>\n",
       "      <td>790415953</td>\n",
       "    </tr>\n",
       "    <tr>\n",
       "      <th>TV Movie</th>\n",
       "      <td>-9200000</td>\n",
       "    </tr>\n",
       "  </tbody>\n",
       "</table>\n",
       "</div>"
      ],
      "text/plain": [
       "             Total Profit\n",
       "Adventure    112443341088\n",
       "Fantasy      103516507916\n",
       "Action       103516507916\n",
       "Comedy        79170805799\n",
       "Drama         72212871827\n",
       "Thriller      62522930845\n",
       "Sci_Fi        53816165880\n",
       "Animation     37259146809\n",
       "Romance       35483779802\n",
       "Crime         26657394212\n",
       "Mystery       16549641311\n",
       "Horror        15035972672\n",
       "War            7037772032\n",
       "Music          6021380783\n",
       "History        5441158801\n",
       "Western        1571715510\n",
       "Documentary     790415953\n",
       "TV Movie         -9200000"
      ]
     },
     "execution_count": 116,
     "metadata": {},
     "output_type": "execute_result"
    }
   ],
   "source": [
    "Profitsummary.sort_values('Total Profit',ascending=False)"
   ]
  },
  {
   "cell_type": "markdown",
   "metadata": {},
   "source": [
    "Explanatory Note:sum total of profit made per genre"
   ]
  },
  {
   "cell_type": "markdown",
   "metadata": {},
   "source": [
    "##### CONCLUSION\n",
    "1.The Dataset was thoroughly cleaned to aid in analysis\n",
    "2.I have summarized all the movieset based on profit per genre and the total number of movies per genre.\n",
    "3.I have visualized the genre type as per number of movies released per year/genre.\n"
   ]
  },
  {
   "cell_type": "markdown",
   "metadata": {},
   "source": []
  },
  {
   "cell_type": "markdown",
   "metadata": {},
   "source": [
    "## CONCLUSION ii\n",
    "\n",
    "1.The Most profitable Movie genre are Adventure,Action and Drama.\n",
    "2.The Most popular genres are Drama,Fantasy and Action according to the dataset\n",
    "3.The least profitable genre are TV Movies,Documentary and Western.\n",
    "4.To make more profit genre type should be considered.\n",
    "5.Changes in year and time tend to affect some movie genre, there was a sharp decline in Romance movies from 2000s to 2010s.\n"
   ]
  },
  {
   "cell_type": "markdown",
   "metadata": {},
   "source": [
    "### Limitation\n",
    "1.The graph can not be plotted clearly because of the numerous genre sometimes making figures too small.\n",
    "\n"
   ]
  },
  {
   "cell_type": "code",
   "execution_count": null,
   "metadata": {},
   "outputs": [],
   "source": []
  }
 ],
 "metadata": {
  "kernelspec": {
   "display_name": "Python 3 (ipykernel)",
   "language": "python",
   "name": "python3"
  },
  "language_info": {
   "codemirror_mode": {
    "name": "ipython",
    "version": 3
   },
   "file_extension": ".py",
   "mimetype": "text/x-python",
   "name": "python",
   "nbconvert_exporter": "python",
   "pygments_lexer": "ipython3",
   "version": "3.9.12"
  }
 },
 "nbformat": 4,
 "nbformat_minor": 2
}
